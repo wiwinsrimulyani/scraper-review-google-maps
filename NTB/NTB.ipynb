{
 "cells": [
  {
   "cell_type": "code",
   "execution_count": null,
   "metadata": {},
   "outputs": [],
   "source": [
    "from selenium import webdriver\n",
    "from selenium.webdriver.common.keys import Keys\n",
    "import pandas as pd\n",
    "from random import randint\n",
    "from time import sleep\n",
    "import csv\n",
    "import numpy as np\n",
    "\n",
    "from selenium.webdriver.common.by import By\n",
    "from selenium.webdriver.support import expected_conditions as EC\n",
    "from selenium.webdriver.support.ui import WebDriverWait as wait\n",
    "from selenium.common.exceptions import NoSuchElementException\n",
    "from bs4 import BeautifulSoup"
   ]
  },
  {
   "cell_type": "code",
   "execution_count": 12,
   "metadata": {},
   "outputs": [],
   "source": [
    "driver = webdriver.Chrome('./chromedriver_win32/chromedriver')"
   ]
  },
  {
   "cell_type": "code",
   "execution_count": 14,
   "metadata": {},
   "outputs": [
    {
     "output_type": "execute_result",
     "data": {
      "text/plain": [
       "'URL'"
      ]
     },
     "metadata": {},
     "execution_count": 14
    }
   ],
   "source": [
    "\n",
    "#for the name of bps\n",
    "bpsNamekab = []\n",
    "\n",
    "with open(\"URL_NTB.csv\",\"r\",encoding='utf-8') as oj:\n",
    "    oj_reader = csv.reader(oj, delimiter = ',')\n",
    "    for row in oj_reader:\n",
    "        bpsNamekab.append(row[7])\n",
    "bpsNamekab.pop(0)"
   ]
  },
  {
   "cell_type": "code",
   "execution_count": 13,
   "metadata": {},
   "outputs": [],
   "source": [
    "finaldf = pd.DataFrame()\n",
    "\n",
    "    #import the dataset detail\n",
    "bpsNamedetail = pd.read_csv('URL_NTB.csv', encoding = 'utf-8')\n",
    "#set the index\n",
    "bpsNamedetail = bpsNamedetail.set_index('URL', drop = True)"
   ]
  },
  {
   "cell_type": "code",
   "execution_count": 16,
   "metadata": {},
   "outputs": [
    {
     "output_type": "error",
     "ename": "KeyboardInterrupt",
     "evalue": "",
     "traceback": [
      "\u001b[1;31m---------------------------------------------------------------------------\u001b[0m",
      "\u001b[1;31mKeyboardInterrupt\u001b[0m                         Traceback (most recent call last)",
      "\u001b[1;32m<ipython-input-16-cb78b4414848>\u001b[0m in \u001b[0;36m<module>\u001b[1;34m\u001b[0m\n\u001b[0;32m     47\u001b[0m \u001b[1;33m\u001b[0m\u001b[0m\n\u001b[0;32m     48\u001b[0m                 \u001b[0mdriver\u001b[0m\u001b[1;33m.\u001b[0m\u001b[0mexecute_script\u001b[0m\u001b[1;33m(\u001b[0m\u001b[1;34m'arguments[0].scrollTop = arguments[0].scrollHeight'\u001b[0m\u001b[1;33m,\u001b[0m \u001b[0mscrollable_div\u001b[0m\u001b[1;33m)\u001b[0m\u001b[1;33m\u001b[0m\u001b[1;33m\u001b[0m\u001b[0m\n\u001b[1;32m---> 49\u001b[1;33m                 \u001b[0msleep\u001b[0m\u001b[1;33m(\u001b[0m\u001b[0mrandint\u001b[0m\u001b[1;33m(\u001b[0m\u001b[1;36m2\u001b[0m\u001b[1;33m,\u001b[0m\u001b[1;36m3\u001b[0m\u001b[1;33m)\u001b[0m\u001b[1;33m)\u001b[0m\u001b[1;33m\u001b[0m\u001b[1;33m\u001b[0m\u001b[0m\n\u001b[0m\u001b[0;32m     50\u001b[0m         \u001b[1;32mexcept\u001b[0m \u001b[0mNoSuchElementException\u001b[0m\u001b[1;33m:\u001b[0m\u001b[1;33m\u001b[0m\u001b[1;33m\u001b[0m\u001b[0m\n\u001b[0;32m     51\u001b[0m             \u001b[1;34m\"tidak ada\"\u001b[0m\u001b[1;33m\u001b[0m\u001b[1;33m\u001b[0m\u001b[0m\n",
      "\u001b[1;31mKeyboardInterrupt\u001b[0m: "
     ]
    }
   ],
   "source": [
    "import re\n",
    "\n",
    "##we need looping here\n",
    "nameLength = len(bpsNamekab)\n",
    "f = open('hasil_NTB_mei.csv', 'w', encoding=\"utf-8\")\n",
    "with f:\n",
    "    writer = csv.writer(f)\n",
    "    for l in range(0, nameLength):\n",
    "\n",
    "\n",
    "        driver.get(bpsNamekab[l])\n",
    "        sleep(randint(8,12))\n",
    "\n",
    "\n",
    "\n",
    "        #Find element by link text and store in variable \"Element\"\n",
    "        try:\n",
    "    \n",
    "            Element = driver.find_element_by_xpath('//button[contains(@aria-label, \"ulasan\") and (@class = \"widget-pane-link\")]')\n",
    "            \n",
    "            \n",
    "            #This will scroll the page till the element is found and click\n",
    "            driver.execute_script(\"arguments[0].scrollIntoView();\", Element)\n",
    "            driver.execute_script('arguments[0].click();', Element)\n",
    "                \n",
    "            sleep(randint(5,8))\n",
    "\n",
    "            #for the effective of scrollable bar\n",
    "            a = bpsNamedetail['Reviews'].loc[bpsNamekab[l]]\n",
    "            if(a <= 7 ):\n",
    "                i = 1\n",
    "            elif(a>= 8 and a<= 20):\n",
    "                i = 3\n",
    "            elif(a>20 and a<= 200):\n",
    "                i = 27\n",
    "            elif(a >200 and a<=400):\n",
    "                i = 52\n",
    "            elif(a>400 and a<= 600):\n",
    "                i = 77\n",
    "            elif(a>600 and a<=800):\n",
    "                i = 102\n",
    "            elif(a>800):\n",
    "                i = 150\n",
    "\n",
    "            for i in range(1,i):\n",
    "                scrollable_div = driver.find_element_by_xpath('//*[@id=\"pane\"]/div/div[1]/div/div/div[2]')\n",
    "                \n",
    "                driver.execute_script('arguments[0].scrollTop = arguments[0].scrollHeight', scrollable_div)\n",
    "                sleep(randint(2,3))\n",
    "        except NoSuchElementException:\n",
    "            \"tidak ada\"\n",
    "    \n",
    "        \n",
    "        ##get number of comments\n",
    "        nums = len(driver.find_elements_by_class_name(\"section-review-content\"))\n",
    "        print(nums)\n",
    "\n",
    "        #to store the comments\n",
    "        totalReview =  []\n",
    "        totalRating = []\n",
    "        mydf = pd.DataFrame(columns = ['review', 'rating'])\n",
    "\n",
    "        commentss = driver.find_elements_by_class_name(\"section-review-content\")\n",
    "        \n",
    "        for commentt in commentss:\n",
    "\n",
    "            #for the reviews detail\n",
    "            com_text  = commentt.find_element_by_class_name('section-review-text').text\n",
    "\n",
    "\n",
    "\n",
    "            #check if the tags is exists using try/catch\n",
    "            try:\n",
    "                review_text1 = commentt.find_element_by_class_name(\"section-review-stars\").get_attribute(\"aria-label\")\n",
    "                review_text = float(review_text1.split(' ')[1])\n",
    "            except NoSuchElementException:\n",
    "                \"tidak ada\"\n",
    "            \n",
    "            ##using another tags to grab the stars\n",
    "            try:\n",
    "                review_text1 = commentt.find_element_by_class_name(\"section-review-numerical-rating\").text\n",
    "                review_text2 = re.search(r\"[0-9]+/\", review_text1).group()\n",
    "                review_text = re.sub(\"/\", \"\", review_text2)\n",
    "            except NoSuchElementException:\n",
    "                \"tidak ada\"\n",
    "      \n",
    "            try:\n",
    "                publish_date = commentt.find_element_by_class_name('section-review-publish-date-and-source').text\n",
    "            except NoSuchElementException:\n",
    "                \"tidak ada\"\n",
    "            try:\n",
    "                publish_date = commentt.find_element_by_class_name('section-review-publish-date').text\n",
    "            except NoSuchElementException:\n",
    "                \"tidak ada\"\n",
    "            \n",
    "            detail = list(bpsNamedetail.loc[bpsNamekab[l]])\n",
    "\n",
    "            detail.append(str(com_text))\n",
    "            detail.append(str(review_text))\n",
    "            detail.append(str(publish_date))\n",
    "\n",
    "               \n",
    "            writer.writerow(detail)\n",
    "                "
   ]
  }
 ],
 "metadata": {
  "kernelspec": {
   "display_name": "Python 3",
   "language": "python",
   "name": "python3"
  },
  "language_info": {
   "codemirror_mode": {
    "name": "ipython",
    "version": 3
   },
   "file_extension": ".py",
   "mimetype": "text/x-python",
   "name": "python",
   "nbconvert_exporter": "python",
   "pygments_lexer": "ipython3",
   "version": "3.7.4-final"
  }
 },
 "nbformat": 4,
 "nbformat_minor": 2
}